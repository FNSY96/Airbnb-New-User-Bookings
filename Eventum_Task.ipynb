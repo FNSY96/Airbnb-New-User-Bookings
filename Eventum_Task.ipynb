{
  "nbformat": 4,
  "nbformat_minor": 0,
  "metadata": {
    "colab": {
      "name": "Eventum_Task.ipynb",
      "version": "0.3.2",
      "provenance": [],
      "collapsed_sections": [
        "g8tRlHd2Yafm",
        "UOeilmHIROaK",
        "zZhu7-4nStKm",
        "yBSZ1H0wRTpl"
      ],
      "include_colab_link": true
    },
    "kernelspec": {
      "name": "python3",
      "display_name": "Python 3"
    }
  },
  "cells": [
    {
      "cell_type": "markdown",
      "metadata": {
        "id": "view-in-github",
        "colab_type": "text"
      },
      "source": [
        "<a href=\"https://colab.research.google.com/github/FNSY96/Eventum-Junior-Data-Scientist-Task/blob/master/Eventum_Task.ipynb\" target=\"_parent\"><img src=\"https://colab.research.google.com/assets/colab-badge.svg\" alt=\"Open In Colab\"/></a>"
      ]
    },
    {
      "cell_type": "markdown",
      "metadata": {
        "id": "p07wmbfhPAy6",
        "colab_type": "text"
      },
      "source": [
        "# EVENTUM TASK"
      ]
    },
    {
      "cell_type": "markdown",
      "metadata": {
        "id": "g8tRlHd2Yafm",
        "colab_type": "text"
      },
      "source": [
        "## Imports"
      ]
    },
    {
      "cell_type": "code",
      "metadata": {
        "id": "W71h7MQMBQld",
        "colab_type": "code",
        "outputId": "f9afea91-92b1-470a-fffc-7583d030afaf",
        "colab": {
          "base_uri": "https://localhost:8080/",
          "height": 136
        }
      },
      "source": [
        "!pip3 install pandas\n",
        "!pip install -U -q PyDrive"
      ],
      "execution_count": 1,
      "outputs": [
        {
          "output_type": "stream",
          "text": [
            "Requirement already satisfied: pandas in /usr/local/lib/python3.6/dist-packages (0.24.2)\n",
            "Requirement already satisfied: python-dateutil>=2.5.0 in /usr/local/lib/python3.6/dist-packages (from pandas) (2.5.3)\n",
            "Requirement already satisfied: pytz>=2011k in /usr/local/lib/python3.6/dist-packages (from pandas) (2018.9)\n",
            "Requirement already satisfied: numpy>=1.12.0 in /usr/local/lib/python3.6/dist-packages (from pandas) (1.16.4)\n",
            "Requirement already satisfied: six>=1.5 in /usr/local/lib/python3.6/dist-packages (from python-dateutil>=2.5.0->pandas) (1.12.0)\n",
            "\u001b[K     |████████████████████████████████| 993kB 2.8MB/s \n",
            "\u001b[?25h  Building wheel for PyDrive (setup.py) ... \u001b[?25l\u001b[?25hdone\n"
          ],
          "name": "stdout"
        }
      ]
    },
    {
      "cell_type": "code",
      "metadata": {
        "id": "p40kVnjk2oAv",
        "colab_type": "code",
        "colab": {}
      },
      "source": [
        "import csv\n",
        "import glob\n",
        "import os\n",
        "import io"
      ],
      "execution_count": 0,
      "outputs": []
    },
    {
      "cell_type": "code",
      "metadata": {
        "id": "5ik7HmiN2_qC",
        "colab_type": "code",
        "colab": {}
      },
      "source": [
        "from google.colab import drive\n",
        "from pydrive.auth import GoogleAuth\n",
        "from pydrive.drive import GoogleDrive\n",
        "from google.colab import auth\n",
        "from oauth2client.client import GoogleCredentials\n",
        "from google.colab import files"
      ],
      "execution_count": 0,
      "outputs": []
    },
    {
      "cell_type": "code",
      "metadata": {
        "id": "PzOrFRM5Bw06",
        "colab_type": "code",
        "colab": {}
      },
      "source": [
        "import csv\n",
        "import glob\n",
        "import os\n",
        "import io\n",
        "import pandas as pd\n",
        "import numpy as np"
      ],
      "execution_count": 0,
      "outputs": []
    },
    {
      "cell_type": "code",
      "metadata": {
        "id": "-aFXmIu7O-qn",
        "colab_type": "code",
        "colab": {}
      },
      "source": [
        "import pandas as pd\n",
        "import matplotlib.pyplot as plt\n",
        "import numpy as np\n",
        "from pandas.plotting import scatter_matrix\n",
        "import seaborn as sns\n",
        "import statistics\n",
        "from dateutil import parser"
      ],
      "execution_count": 0,
      "outputs": []
    },
    {
      "cell_type": "code",
      "metadata": {
        "id": "mwYAYXnkLziA",
        "colab_type": "code",
        "colab": {}
      },
      "source": [
        "from sklearn.decomposition import PCA\n",
        "from sklearn import preprocessing\n",
        "from sklearn.preprocessing import StandardScaler"
      ],
      "execution_count": 0,
      "outputs": []
    },
    {
      "cell_type": "code",
      "metadata": {
        "id": "CaIFh7QmIrxm",
        "colab_type": "code",
        "colab": {}
      },
      "source": [
        "from sklearn import tree\n",
        "from sklearn import svm\n",
        "from sklearn.neighbors import KNeighborsClassifier\n",
        "from sklearn.ensemble import RandomForestClassifier\n",
        "from sklearn.svm import SVC\n",
        "from sklearn.naive_bayes import GaussianNB\n",
        "from sklearn.linear_model import LogisticRegression\n",
        "from sklearn.ensemble import AdaBoostClassifier\n",
        "from sklearn.ensemble import BaggingClassifier\n"
      ],
      "execution_count": 0,
      "outputs": []
    },
    {
      "cell_type": "code",
      "metadata": {
        "id": "ZIqB0aza3FJZ",
        "colab_type": "code",
        "outputId": "fb910292-e93a-4f0e-f4ed-765c44702927",
        "colab": {
          "base_uri": "https://localhost:8080/",
          "height": 122
        }
      },
      "source": [
        "auth.authenticate_user()\n",
        "gauth = GoogleAuth()\n",
        "gauth.credentials = GoogleCredentials.get_application_default()\n",
        "\n",
        "drive.mount(\"/content/drive\", force_remount = True)\n",
        "datadir  = 'drive/My Drive/Colab Notebooks/airbnb'"
      ],
      "execution_count": 8,
      "outputs": [
        {
          "output_type": "stream",
          "text": [
            "Go to this URL in a browser: https://accounts.google.com/o/oauth2/auth?client_id=947318989803-6bn6qk8qdgf4n4g3pfee6491hc0brc4i.apps.googleusercontent.com&redirect_uri=urn%3Aietf%3Awg%3Aoauth%3A2.0%3Aoob&scope=email%20https%3A%2F%2Fwww.googleapis.com%2Fauth%2Fdocs.test%20https%3A%2F%2Fwww.googleapis.com%2Fauth%2Fdrive%20https%3A%2F%2Fwww.googleapis.com%2Fauth%2Fdrive.photos.readonly%20https%3A%2F%2Fwww.googleapis.com%2Fauth%2Fpeopleapi.readonly&response_type=code\n",
            "\n",
            "Enter your authorization code:\n",
            "··········\n",
            "Mounted at /content/drive\n"
          ],
          "name": "stdout"
        }
      ]
    },
    {
      "cell_type": "markdown",
      "metadata": {
        "id": "w4nH4XWQQkyE",
        "colab_type": "text"
      },
      "source": [
        "## Funcitons"
      ]
    },
    {
      "cell_type": "code",
      "metadata": {
        "id": "54eL4VOOQj9U",
        "colab_type": "code",
        "colab": {}
      },
      "source": [
        "def adjust_age(dataframe):\n",
        "  temp = dataframe['age'] > 1000\n",
        "  dataframe.loc[temp, 'age'] = 2015 - dataframe.loc[temp, 'age']"
      ],
      "execution_count": 0,
      "outputs": []
    },
    {
      "cell_type": "code",
      "metadata": {
        "id": "GWhjaLz9Yav7",
        "colab_type": "code",
        "colab": {}
      },
      "source": [
        "def replace_nan(dataframe):\n",
        "  dataframe.gender.replace('-unknown-',np.nan, inplace=True)\n",
        "  dataframe.age.replace('NaN', np.nan, inplace=True)\n",
        "  dataframe['age'].fillna(0, inplace=True)\n",
        "  dataframe['gender'].fillna('FEMALE', inplace=True)\n",
        "  dataframe['first_affiliate_tracked'].fillna((train_final['first_affiliate_tracked'].mode()[0]), inplace=True)\n",
        "  return dataframe"
      ],
      "execution_count": 0,
      "outputs": []
    },
    {
      "cell_type": "code",
      "metadata": {
        "id": "7EJ3brxJ8YmF",
        "colab_type": "code",
        "colab": {}
      },
      "source": [
        "def split_timestamp(original, encoded):\n",
        "  year_timestamp = list()\n",
        "  month_timestamp = list()\n",
        "  timestamp_col = encoded.timestamp_first_active\n",
        "  \n",
        "  for i in range(original.shape[0]):\n",
        "    year_timestamp.append(int(str(timestamp_col[i])[:4]))\n",
        "    month_timestamp.append(int(str(timestamp_col[i])[4:6]))\n",
        "    \n",
        "  year_timestamp = pd.DataFrame({'col':year_timestamp})\n",
        "  year_timestamp.columns = ['year_timestamp']\n",
        "  \n",
        "  month_timestamp = pd.DataFrame({'col':month_timestamp})\n",
        "  month_timestamp.columns = ['month_timestamp']\n",
        "  \n",
        "  encoded = encoded.drop(['timestamp_first_active'], axis=1)\n",
        "  encoded = pd.concat([encoded, year_timestamp, month_timestamp], axis = 1)\n",
        "  return encoded"
      ],
      "execution_count": 0,
      "outputs": []
    },
    {
      "cell_type": "code",
      "metadata": {
        "id": "In58pLLKs1lV",
        "colab_type": "code",
        "colab": {}
      },
      "source": [
        "def download_results(pred, filename):\n",
        "  pred = pd.DataFrame(pred)\n",
        "  res = pd.concat([test_ids, pred], axis=1)\n",
        "  res.columns = ['id', 'country']\n",
        "  res.to_csv(filename,index=False)\n",
        "  files.download(filename)"
      ],
      "execution_count": 0,
      "outputs": []
    },
    {
      "cell_type": "code",
      "metadata": {
        "id": "yFQbwYK9Sdkf",
        "colab_type": "code",
        "colab": {}
      },
      "source": [
        "def convert_categorical(dataframe, string_attributes):\n",
        "  label_encoder = preprocessing.LabelEncoder()\n",
        "  \n",
        "  for i in range(len(string_attributes)):\n",
        "    attribute_name = string_attributes[i]\n",
        "    attribute_list = dataframe[attribute_name]\n",
        "    attribute_encoded = label_encoder.fit_transform(attribute_list)\n",
        "    \n",
        "    value_zipped_encoded_list = list(zip(attribute_list,attribute_encoded))\n",
        "    value_zipped_encoded_df = pd.DataFrame(value_zipped_encoded_list)\n",
        "    modified_attribute_name = attribute_name + '_converted'\n",
        "    value_zipped_encoded_df.columns = [attribute_name, modified_attribute_name]\n",
        "    zipped_df = pd.DataFrame(value_zipped_encoded_df)\n",
        "   \n",
        "    dataframe.reset_index(drop=True, inplace=True)\n",
        "    zipped_df.reset_index(drop=True, inplace=True)\n",
        "    dataframe = pd.concat([dataframe, zipped_df], axis = 1)\n",
        "\n",
        "  return dataframe.drop(string_attributes, axis=1)\n"
      ],
      "execution_count": 0,
      "outputs": []
    },
    {
      "cell_type": "code",
      "metadata": {
        "id": "-OoZBv5d_q6p",
        "colab_type": "code",
        "colab": {}
      },
      "source": [
        "def split_date_account_created(original, encoded):\n",
        "  year_account_created = list()\n",
        "  month_account_created = list()\n",
        "  for i in range(original.shape[0]):\n",
        "    year_account_created.append(parser.parse(original['date_account_created'][i]).year)\n",
        "    month_account_created.append(parser.parse(original['date_account_created'][i]).month)\n",
        "    \n",
        "  year_account_created = pd.DataFrame({'col':year_account_created})\n",
        "  year_account_created.columns = ['year_account_created']\n",
        "  \n",
        "  month_account_created = pd.DataFrame({'col':month_account_created})\n",
        "  month_account_created.columns = ['month_account_created']\n",
        "  \n",
        "  encoded = encoded.drop(['date_account_created'], axis=1)\n",
        "  encoded = pd.concat([encoded, year_account_created, month_account_created], axis = 1)\n",
        "  return encoded"
      ],
      "execution_count": 0,
      "outputs": []
    },
    {
      "cell_type": "markdown",
      "metadata": {
        "id": "UOeilmHIROaK",
        "colab_type": "text"
      },
      "source": [
        "## Dataframes"
      ]
    },
    {
      "cell_type": "code",
      "metadata": {
        "id": "LZsioIKw3cla",
        "colab_type": "code",
        "colab": {}
      },
      "source": [
        "train = pd.read_csv(os.path.join(datadir, 'train_users_2.csv'), encoding = 'latin-1')\n",
        "test = pd.read_csv(os.path.join(datadir, 'test_users.csv'), encoding = 'latin-1')\n",
        "countries = pd.read_csv(os.path.join(datadir, 'countries.csv'), encoding = 'latin-1')\n",
        "age_gender = pd.read_csv(os.path.join(datadir, 'age_gender_bkts.csv'), encoding = 'latin-1')\n",
        "sessions = pd.read_csv(os.path.join(datadir, 'sessions.csv'), encoding = 'latin-1')"
      ],
      "execution_count": 0,
      "outputs": []
    },
    {
      "cell_type": "code",
      "metadata": {
        "id": "CzYtF0A0RW5U",
        "colab_type": "code",
        "colab": {}
      },
      "source": [
        "adjust_age(train)\n",
        "adjust_age(test)"
      ],
      "execution_count": 0,
      "outputs": []
    },
    {
      "cell_type": "code",
      "metadata": {
        "id": "hCkVOO3oif0y",
        "colab_type": "code",
        "colab": {}
      },
      "source": [
        "booked_users = train.dropna(subset=['date_first_booking'])"
      ],
      "execution_count": 0,
      "outputs": []
    },
    {
      "cell_type": "code",
      "metadata": {
        "id": "tgRiv1dsy_LA",
        "colab_type": "code",
        "colab": {}
      },
      "source": [
        "year_account_created = list()\n",
        "for i in range(train.shape[0]):\n",
        "  year_account_created.append(parser.parse(train['date_account_created'][i]).year)\n",
        "year_account_created = pd.DataFrame({'col':year_account_created})\n",
        "year_account_created.columns = ['date_account_created']\n",
        "year_account_created = year_account_created.sort_values(by='date_account_created', ascending=True)"
      ],
      "execution_count": 0,
      "outputs": []
    },
    {
      "cell_type": "code",
      "metadata": {
        "id": "axXl5ztzKMvj",
        "colab_type": "code",
        "outputId": "9e317f8b-6d9e-4614-c2f6-5de7cf438e3e",
        "colab": {
          "base_uri": "https://localhost:8080/",
          "height": 68
        }
      },
      "source": [
        "print(sessions.columns)"
      ],
      "execution_count": 19,
      "outputs": [
        {
          "output_type": "stream",
          "text": [
            "Index(['user_id', 'action', 'action_type', 'action_detail', 'device_type',\n",
            "       'secs_elapsed'],\n",
            "      dtype='object')\n"
          ],
          "name": "stdout"
        }
      ]
    },
    {
      "cell_type": "markdown",
      "metadata": {
        "id": "yBSZ1H0wRTpl",
        "colab_type": "text"
      },
      "source": [
        "## Charts and Plots"
      ]
    },
    {
      "cell_type": "markdown",
      "metadata": {
        "id": "AdBb2533WwG6",
        "colab_type": "text"
      },
      "source": [
        "### [Histogram] of Users' Ages"
      ]
    },
    {
      "cell_type": "code",
      "metadata": {
        "id": "-0fXlyY9FFzm",
        "colab_type": "code",
        "outputId": "096749a4-0741-4dab-9498-e1d32eb96e7e",
        "colab": {
          "base_uri": "https://localhost:8080/",
          "height": 635
        }
      },
      "source": [
        "att = 'age'\n",
        "ax = train[att].hist(bins=20, grid=False,edgecolor='black', figsize=(4,10))\n",
        "ax.set_xlabel(att, labelpad=10, size=12)\n",
        "ax.set_ylabel(\"count\", labelpad=10, size=12)"
      ],
      "execution_count": 66,
      "outputs": [
        {
          "output_type": "execute_result",
          "data": {
            "text/plain": [
              "Text(0, 0.5, 'count')"
            ]
          },
          "metadata": {
            "tags": []
          },
          "execution_count": 66
        },
        {
          "output_type": "display_data",
          "data": {
            "image/png": "[encoded data removed]",
            "text/plain": [
              "<Figure size 288x720 with 1 Axes>"
            ]
          },
          "metadata": {
            "tags": []
          }
        }
      ]
    },
    {
      "cell_type": "markdown",
      "metadata": {
        "id": "Fhpql0PJW8ck",
        "colab_type": "text"
      },
      "source": [
        "### [Bar Plot] of Users' Genders"
      ]
    },
    {
      "cell_type": "code",
      "metadata": {
        "id": "PvqOpHViY6gh",
        "colab_type": "code",
        "outputId": "24574f5c-6edc-49f0-df8b-e3faf1c7ad14",
        "colab": {
          "base_uri": "https://localhost:8080/",
          "height": 311
        }
      },
      "source": [
        "att = 'gender'\n",
        "ax = train[att].value_counts().plot.bar()"
      ],
      "execution_count": 27,
      "outputs": [
        {
          "output_type": "display_data",
          "data": {
            "image/png": "[encoded data removed]",
            "text/plain": [
              "<Figure size 432x288 with 1 Axes>"
            ]
          },
          "metadata": {
            "tags": []
          }
        }
      ]
    },
    {
      "cell_type": "markdown",
      "metadata": {
        "id": "VYVwtpeEXC56",
        "colab_type": "text"
      },
      "source": [
        "### [Bar Plot] of Languages Spoken by the Users\n",
        "We can notice that users speaking English form the vast majority, this is logical since this data is for USA users."
      ]
    },
    {
      "cell_type": "code",
      "metadata": {
        "id": "j8IyqxpQqPay",
        "colab_type": "code",
        "outputId": "3319371d-0bce-4c23-e0c4-e0c26ca47e8e",
        "colab": {
          "base_uri": "https://localhost:8080/",
          "height": 272
        }
      },
      "source": [
        "att = 'language'\n",
        "ax = train[train[att] != 'en'][att].value_counts().plot.bar()"
      ],
      "execution_count": 28,
      "outputs": [
        {
          "output_type": "display_data",
          "data": {
            "image/png": "[encoded data removed]",
            "text/plain": [
              "<Figure size 432x288 with 1 Axes>"
            ]
          },
          "metadata": {
            "tags": []
          }
        }
      ]
    },
    {
      "cell_type": "code",
      "metadata": {
        "id": "rYXo4K3GqwA5",
        "colab_type": "code",
        "outputId": "e3663fad-8166-48b8-9e6d-c40ac0ae1190",
        "colab": {
          "base_uri": "https://localhost:8080/",
          "height": 326
        }
      },
      "source": [
        "att = 'language'\n",
        "ax = train[train[att] == 'en'][att].value_counts().plot.bar(edgecolor='black', figsize=(1,5))\n",
        "# ax = train[att].value_counts().plot.bar()"
      ],
      "execution_count": 29,
      "outputs": [
        {
          "output_type": "display_data",
          "data": {
            "image/png": "[encoded data removed]",
            "text/plain": [
              "<Figure size 72x360 with 1 Axes>"
            ]
          },
          "metadata": {
            "tags": []
          }
        }
      ]
    },
    {
      "cell_type": "markdown",
      "metadata": {
        "id": "p2AND11wXYp9",
        "colab_type": "text"
      },
      "source": [
        "### [Box Plot] for the Users' Ages\n",
        "This box plot shows that the median of the ages is 34 years, which is a good age for travelling."
      ]
    },
    {
      "cell_type": "code",
      "metadata": {
        "id": "R11O_MWtXI7_",
        "colab_type": "code",
        "outputId": "583a5d4d-1b88-4da4-bf22-937b6a536107",
        "colab": {
          "base_uri": "https://localhost:8080/",
          "height": 612
        }
      },
      "source": [
        "df = train['age']\n",
        "ax = df.plot(kind='box', figsize=(2,10))\n",
        "ax.text(1, df.median(), df.median(), horizontalalignment='center', size='small', color='b', weight='bold')"
      ],
      "execution_count": 63,
      "outputs": [
        {
          "output_type": "execute_result",
          "data": {
            "text/plain": [
              "Text(1, 34.0, '34.0')"
            ]
          },
          "metadata": {
            "tags": []
          },
          "execution_count": 63
        },
        {
          "output_type": "display_data",
          "data": {
            "image/png": "[encoded data removed]",
            "text/plain": [
              "<Figure size 144x720 with 1 Axes>"
            ]
          },
          "metadata": {
            "tags": []
          }
        }
      ]
    },
    {
      "cell_type": "markdown",
      "metadata": {
        "id": "EmsSef_YY8k0",
        "colab_type": "text"
      },
      "source": [
        "### [Bar Plot] for the Destination Country Selected by Users\n",
        "We can notice that most of the users have registerd but did not go anywhere as the NDF is the max by about 120000 of ~ 215,000 tuples.\n",
        "In case we have a bar plot for the users who booked a at least 1 booking, we can notice that most bookings are internal (i.e. inside the US) while the 2nd highest percentage will go to the \"OTHER\" label, this gives a good intituion about the predictions in the 2nd part."
      ]
    },
    {
      "cell_type": "code",
      "metadata": {
        "id": "u8AQzvcr8mxj",
        "colab_type": "code",
        "outputId": "47b69125-9a82-4823-928e-7af60a534c39",
        "colab": {
          "base_uri": "https://localhost:8080/",
          "height": 317
        }
      },
      "source": [
        "train['country_destination'].value_counts().plot(kind='bar')\n",
        "plt.xlabel('country_destination')\n",
        "plt.ylabel('count')"
      ],
      "execution_count": 31,
      "outputs": [
        {
          "output_type": "execute_result",
          "data": {
            "text/plain": [
              "Text(0, 0.5, 'count')"
            ]
          },
          "metadata": {
            "tags": []
          },
          "execution_count": 31
        },
        {
          "output_type": "display_data",
          "data": {
            "image/png": "[encoded data removed]",
            "text/plain": [
              "<Figure size 432x288 with 1 Axes>"
            ]
          },
          "metadata": {
            "tags": []
          }
        }
      ]
    },
    {
      "cell_type": "code",
      "metadata": {
        "id": "Yf5fK3n_j7TP",
        "colab_type": "code",
        "outputId": "c6ae63af-9ad2-4867-efd0-3842732279c4",
        "colab": {
          "base_uri": "https://localhost:8080/",
          "height": 317
        }
      },
      "source": [
        "booked_users['country_destination'].value_counts().plot(kind='bar')\n",
        "plt.xlabel('country_destination')\n",
        "plt.ylabel('count')"
      ],
      "execution_count": 32,
      "outputs": [
        {
          "output_type": "execute_result",
          "data": {
            "text/plain": [
              "Text(0, 0.5, 'count')"
            ]
          },
          "metadata": {
            "tags": []
          },
          "execution_count": 32
        },
        {
          "output_type": "display_data",
          "data": {
            "image/png": "[encoded data removed]",
            "text/plain": [
              "<Figure size 432x288 with 1 Axes>"
            ]
          },
          "metadata": {
            "tags": []
          }
        }
      ]
    },
    {
      "cell_type": "markdown",
      "metadata": {
        "id": "0xVuU_j0aySP",
        "colab_type": "text"
      },
      "source": [
        "### [Bar Plot] for the Device Type of Users\n",
        "We can notice that the majority of the users use desktop to access Airbnb site, more over we can notice the dominance of Apple devices (Mac, iPhone and iPad).\n",
        "Simillar insights can be noticed about the devices used by the users who booked on Airbnb. The dominance of Apple devices though they are known for their high price, gives a good insight about the financial states of the real travelers and Airbnb users."
      ]
    },
    {
      "cell_type": "code",
      "metadata": {
        "id": "0nN3XSzm-Kc0",
        "colab_type": "code",
        "outputId": "e6a52306-9b19-4796-e899-6dbbc6c76d06",
        "colab": {
          "base_uri": "https://localhost:8080/",
          "height": 391
        }
      },
      "source": [
        "train['first_device_type'].value_counts().plot(kind='bar')\n",
        "plt.xlabel('first_device_type')\n",
        "plt.ylabel('count')"
      ],
      "execution_count": 33,
      "outputs": [
        {
          "output_type": "execute_result",
          "data": {
            "text/plain": [
              "Text(0, 0.5, 'count')"
            ]
          },
          "metadata": {
            "tags": []
          },
          "execution_count": 33
        },
        {
          "output_type": "display_data",
          "data": {
            "image/png": "[encoded data removed]",
            "text/plain": [
              "<Figure size 432x288 with 1 Axes>"
            ]
          },
          "metadata": {
            "tags": []
          }
        }
      ]
    },
    {
      "cell_type": "code",
      "metadata": {
        "id": "wPEIapYfjrCc",
        "colab_type": "code",
        "outputId": "a0e01207-72c0-421a-8019-a30c7c53dcc1",
        "colab": {
          "base_uri": "https://localhost:8080/",
          "height": 391
        }
      },
      "source": [
        "plt.figure(figsize=(8,4))\n",
        "booked_users['first_device_type'].value_counts().plot(kind='bar')\n",
        "plt.xlabel('first_device_type_booked_users')\n",
        "plt.ylabel('count')"
      ],
      "execution_count": 53,
      "outputs": [
        {
          "output_type": "execute_result",
          "data": {
            "text/plain": [
              "Text(0, 0.5, 'count')"
            ]
          },
          "metadata": {
            "tags": []
          },
          "execution_count": 53
        },
        {
          "output_type": "display_data",
          "data": {
            "image/png": "[encoded data removed]",
            "text/plain": [
              "<Figure size 576x288 with 1 Axes>"
            ]
          },
          "metadata": {
            "tags": []
          }
        }
      ]
    },
    {
      "cell_type": "markdown",
      "metadata": {
        "id": "CaOb2l_idARR",
        "colab_type": "text"
      },
      "source": [
        "### [Bar Plot] for the browser/signup app\n",
        "Since in the previous barplot we noticed the dominance of desktop devices among users, it is logical to find the web is dominant also here with a large percentage (over 70,000 from ~215,000).\n",
        "From this we can concluded the need to maintain and continously update the desktop website of Airbnb which is more used by the users."
      ]
    },
    {
      "cell_type": "code",
      "metadata": {
        "id": "Ip5RAIgwr_gs",
        "colab_type": "code",
        "outputId": "00c85fb7-eea6-4fce-83e9-7c8d36896623",
        "colab": {
          "base_uri": "https://localhost:8080/",
          "height": 330
        }
      },
      "source": [
        "plt.figure(figsize=(8,4))\n",
        "booked_users['signup_app'].value_counts().plot(kind='bar')\n",
        "plt.xlabel('signup_app')\n",
        "plt.ylabel('count')"
      ],
      "execution_count": 54,
      "outputs": [
        {
          "output_type": "execute_result",
          "data": {
            "text/plain": [
              "Text(0, 0.5, 'count')"
            ]
          },
          "metadata": {
            "tags": []
          },
          "execution_count": 54
        },
        {
          "output_type": "display_data",
          "data": {
            "image/png": "[encoded data removed]",
            "text/plain": [
              "<Figure size 576x288 with 1 Axes>"
            ]
          },
          "metadata": {
            "tags": []
          }
        }
      ]
    },
    {
      "cell_type": "markdown",
      "metadata": {
        "id": "K8zEeOL6dr8K",
        "colab_type": "text"
      },
      "source": [
        "### [Bar Plot] for the First Browser for Users\n",
        "We can notice also the dominance of desktop browsers which also makes sense and follows the previous analysis."
      ]
    },
    {
      "cell_type": "code",
      "metadata": {
        "id": "ymqOWsdxkTOR",
        "colab_type": "code",
        "outputId": "194287df-cc62-42ac-ef4d-5294e135c28b",
        "colab": {
          "base_uri": "https://localhost:8080/",
          "height": 619
        }
      },
      "source": [
        "plt.figure(figsize=(15,8))\n",
        "booked_users['first_browser'].value_counts().plot(kind='bar')\n",
        "plt.xlabel('first_browser')\n",
        "plt.ylabel('count')\n"
      ],
      "execution_count": 58,
      "outputs": [
        {
          "output_type": "execute_result",
          "data": {
            "text/plain": [
              "Text(0, 0.5, 'count')"
            ]
          },
          "metadata": {
            "tags": []
          },
          "execution_count": 58
        },
        {
          "output_type": "display_data",
          "data": {
            "image/png": "[encoded data removed]",
            "text/plain": [
              "<Figure size 1080x576 with 1 Axes>"
            ]
          },
          "metadata": {
            "tags": []
          }
        }
      ]
    },
    {
      "cell_type": "markdown",
      "metadata": {
        "id": "LDuspKIph4oP",
        "colab_type": "text"
      },
      "source": [
        "### [Bar Plot] for the Signup Method used by the Users\n",
        "It is noticed that more than half the users prefered to use the basic signup method (i.e. using email and password registeration) followed by Facebook. It is quite strange that almost no users used Google for signup!\n",
        "This maybe because the Google authentication system that may be more complicated on a simple user!"
      ]
    },
    {
      "cell_type": "code",
      "metadata": {
        "id": "EtMLfscKvImu",
        "colab_type": "code",
        "outputId": "c086f381-bff7-43f9-d076-258146f1e82c",
        "colab": {
          "base_uri": "https://localhost:8080/",
          "height": 390
        }
      },
      "source": [
        "plt.figure(figsize=(10,5))\n",
        "att = 'signup_method'\n",
        "train[att].value_counts().plot(kind='bar')\n",
        "plt.xlabel(att)\n",
        "plt.ylabel('count')"
      ],
      "execution_count": 37,
      "outputs": [
        {
          "output_type": "execute_result",
          "data": {
            "text/plain": [
              "Text(0, 0.5, 'count')"
            ]
          },
          "metadata": {
            "tags": []
          },
          "execution_count": 37
        },
        {
          "output_type": "display_data",
          "data": {
            "image/png": "[encoded data removed]",
            "text/plain": [
              "<Figure size 720x360 with 1 Axes>"
            ]
          },
          "metadata": {
            "tags": []
          }
        }
      ]
    },
    {
      "cell_type": "markdown",
      "metadata": {
        "id": "o1eeow8hi1wb",
        "colab_type": "text"
      },
      "source": [
        "### [Box Plot] for the Age of Users selecting the Desitination Countries\n",
        "We can easily notice that there is no large difference in the users' ages that are visiting each country."
      ]
    },
    {
      "cell_type": "code",
      "metadata": {
        "id": "5hMiw5tNaomr",
        "colab_type": "code",
        "outputId": "9234ec2d-d5df-4cc5-b15b-aabcbbde9714",
        "colab": {
          "base_uri": "https://localhost:8080/",
          "height": 627
        }
      },
      "source": [
        "plt.figure(figsize=(8,10))\n",
        "sns.boxplot(y='age' , x='country_destination',data=booked_users)\n",
        "plt.xlabel('country_destination')\n",
        "plt.ylabel('age')"
      ],
      "execution_count": 60,
      "outputs": [
        {
          "output_type": "execute_result",
          "data": {
            "text/plain": [
              "Text(0, 0.5, 'age')"
            ]
          },
          "metadata": {
            "tags": []
          },
          "execution_count": 60
        },
        {
          "output_type": "display_data",
          "data": {
            "image/png": "[encoded data removed]",
            "text/plain": [
              "<Figure size 576x720 with 1 Axes>"
            ]
          },
          "metadata": {
            "tags": []
          }
        }
      ]
    },
    {
      "cell_type": "markdown",
      "metadata": {
        "id": "3P43xRJAgAo5",
        "colab_type": "text"
      },
      "source": [
        "### [Bar Plot] for the Number of New Users that Register on Airbnb each Year\n",
        "We can notice the exponential increase of users from year to year (although there is a slight decrease in year 2014). This gives a good insight about the development of Airbnb platform and the evolution of marketing and advertising.\n",
        "The drop at year 2014 is not a big drop but it must be taken into concideration."
      ]
    },
    {
      "cell_type": "code",
      "metadata": {
        "id": "L9QnDQpw217t",
        "colab_type": "code",
        "outputId": "c8e4c38c-8cc5-49fd-d71b-6232ab3b2af9",
        "colab": {
          "base_uri": "https://localhost:8080/",
          "height": 641
        }
      },
      "source": [
        "plt.figure(figsize=(5,10))\n",
        "year_account_created['date_account_created'].value_counts().sort_index().plot(kind='bar')\n",
        "plt.xlabel('year')\n",
        "plt.ylabel('count')"
      ],
      "execution_count": 62,
      "outputs": [
        {
          "output_type": "execute_result",
          "data": {
            "text/plain": [
              "Text(0, 0.5, 'count')"
            ]
          },
          "metadata": {
            "tags": []
          },
          "execution_count": 62
        },
        {
          "output_type": "display_data",
          "data": {
            "image/png": "[encoded data removed]",
            "text/plain": [
              "<Figure size 360x720 with 1 Axes>"
            ]
          },
          "metadata": {
            "tags": []
          }
        }
      ]
    },
    {
      "cell_type": "markdown",
      "metadata": {
        "id": "eTRw3mkYrxsH",
        "colab_type": "text"
      },
      "source": [
        "## Data Cleaning and Feature Selection"
      ]
    },
    {
      "cell_type": "code",
      "metadata": {
        "id": "Ihi5Cdm3M8xH",
        "colab_type": "code",
        "colab": {}
      },
      "source": [
        "labels_train = train['country_destination'].values\n",
        "train_final = train.drop(['id', 'country_destination', 'date_first_booking'], axis=1)\n",
        "test_final = test.drop(['id', 'date_first_booking'], axis=1)\n",
        "test_ids = test['id'].to_frame()"
      ],
      "execution_count": 0,
      "outputs": []
    },
    {
      "cell_type": "code",
      "metadata": {
        "id": "SXm2gszqzNCO",
        "colab_type": "code",
        "colab": {}
      },
      "source": [
        "train_final = replace_nan(train_final)\n",
        "test_final = replace_nan(test_final)\n",
        "string_attributes = ['gender', 'signup_method', 'language', 'affiliate_channel', 'affiliate_provider', \n",
        "                     'first_affiliate_tracked', 'signup_app', 'first_device_type', 'first_browser']\n",
        "train_encoded = convert_categorical(train_final, string_attributes)\n",
        "test_encoded = convert_categorical(test_final, string_attributes)\n",
        "\n",
        "train_encoded = split_date_account_created(train, train_encoded)\n",
        "test_encoded = split_date_account_created(test, test_encoded)\n",
        "\n",
        "train_encoded_split_ts = split_timestamp(train, train_encoded)\n",
        "test_encoded_split_ts = split_timestamp(test, test_encoded)"
      ],
      "execution_count": 0,
      "outputs": []
    },
    {
      "cell_type": "markdown",
      "metadata": {
        "id": "9KmI4851Y9la",
        "colab_type": "text"
      },
      "source": [
        "## Training Classifiers"
      ]
    },
    {
      "cell_type": "markdown",
      "metadata": {
        "id": "0Bcv_ILOsdNo",
        "colab_type": "text"
      },
      "source": [
        "### kNN"
      ]
    },
    {
      "cell_type": "code",
      "metadata": {
        "id": "EUsDtfLOTdWk",
        "colab_type": "code",
        "colab": {}
      },
      "source": [
        "scaler = StandardScaler() \n",
        "data_train = scaler.fit_transform(train_encoded_split_ts)\n",
        "data_test = scaler.fit_transform(test_encoded_split_ts)  \n",
        "knn = KNeighborsClassifier(n_neighbors = 200)\n",
        "knn.fit(data_train, labels_train)\n",
        "knn_pred = knn.predict(data_test)"
      ],
      "execution_count": 0,
      "outputs": []
    },
    {
      "cell_type": "code",
      "metadata": {
        "id": "NcelgfZPjyMW",
        "colab_type": "code",
        "colab": {}
      },
      "source": [
        "download_results(knn_pred, 'knn_results.csv')"
      ],
      "execution_count": 0,
      "outputs": []
    },
    {
      "cell_type": "markdown",
      "metadata": {
        "id": "vbJ3Kdq5tDOo",
        "colab_type": "text"
      },
      "source": [
        "### Decision Tree"
      ]
    },
    {
      "cell_type": "code",
      "metadata": {
        "id": "2_0KWiyNIuqv",
        "colab_type": "code",
        "colab": {}
      },
      "source": [
        "clf=tree.DecisionTreeClassifier()\n",
        "clf.fit(train_encoded_split_ts, labels_train)\n",
        "dt_pred=clf.predict(test_encoded_split_ts)\n",
        "download_results(dt_pred, 'decision_tree_results.csv')"
      ],
      "execution_count": 0,
      "outputs": []
    },
    {
      "cell_type": "markdown",
      "metadata": {
        "id": "ALbqtXxTXfbK",
        "colab_type": "text"
      },
      "source": [
        "### ٍRandom Forest"
      ]
    },
    {
      "cell_type": "code",
      "metadata": {
        "id": "_-f5I1craGQ5",
        "colab_type": "code",
        "colab": {}
      },
      "source": [
        "clf = RandomForestClassifier(n_estimators = 50)\n",
        "clf.fit(train_encoded_split_ts, labels_train)\n",
        "rf_pred=clf.predict(test_encoded_split_ts)\n",
        "download_results(rf_pred, 'random_forest_results.csv')"
      ],
      "execution_count": 0,
      "outputs": []
    },
    {
      "cell_type": "markdown",
      "metadata": {
        "id": "R98Sm3YYJ2Ob",
        "colab_type": "text"
      },
      "source": [
        "### Naive Bayes"
      ]
    },
    {
      "cell_type": "code",
      "metadata": {
        "id": "0m-WeG08LB5H",
        "colab_type": "code",
        "colab": {}
      },
      "source": [
        "# DON'T STANDARDIZE -> LOWER SCORES\n",
        "clf = GaussianNB()\n",
        "clf.fit(train_encoded, labels_train)\n",
        "nb_pred = clf.predict(test_encoded)\n",
        "download_results(nb_pred, 'nb_results.csv')"
      ],
      "execution_count": 0,
      "outputs": []
    },
    {
      "cell_type": "markdown",
      "metadata": {
        "id": "-6nt4GmlOiXA",
        "colab_type": "text"
      },
      "source": [
        "### Logistic Regression"
      ]
    },
    {
      "cell_type": "code",
      "metadata": {
        "id": "cX9yjOZ3OA-F",
        "colab_type": "code",
        "colab": {}
      },
      "source": [
        "clf = LogisticRegression()\n",
        "clf.fit(train_encoded_split_ts, labels_train)\n",
        "lr_pred = clf.predict(test_encoded_split_ts)\n",
        "download_results(lr_pred, 'lr_results.csv')"
      ],
      "execution_count": 0,
      "outputs": []
    },
    {
      "cell_type": "markdown",
      "metadata": {
        "id": "IEmKeqrNW2w8",
        "colab_type": "text"
      },
      "source": [
        "### Adaboost"
      ]
    },
    {
      "cell_type": "code",
      "metadata": {
        "id": "CUhnPMxDQA5l",
        "colab_type": "code",
        "colab": {}
      },
      "source": [
        "clf = AdaBoostClassifier()\n",
        "clf.fit(train_encoded, labels_train)\n",
        "ada_pred = clf.predict(test_encoded)\n",
        "download_results(ada_pred, 'ada_results.csv')"
      ],
      "execution_count": 0,
      "outputs": []
    },
    {
      "cell_type": "markdown",
      "metadata": {
        "id": "LBK_JNbINLqM",
        "colab_type": "text"
      },
      "source": [
        "### Bagging Classifier"
      ]
    },
    {
      "cell_type": "code",
      "metadata": {
        "id": "Z1waSZPcKnJ3",
        "colab_type": "code",
        "colab": {}
      },
      "source": [
        "clf = BaggingClassifier()\n",
        "clf.fit(train_encoded_split_ts, labels_train)\n",
        "bagging_pred = clf.predict(test_encoded_split_ts)\n",
        "download_results(bagging_pred, 'bagging_results.csv')"
      ],
      "execution_count": 0,
      "outputs": []
    }
  ]
}